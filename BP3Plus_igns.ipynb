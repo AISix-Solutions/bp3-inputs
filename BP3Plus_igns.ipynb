{
 "cells": [
  {
   "cell_type": "code",
   "execution_count": 1,
   "id": "5a6c63b9-dc76-4230-a412-af57e951c1af",
   "metadata": {},
   "outputs": [],
   "source": [
    "#Written by GC -- 02/24\n",
    "\n",
    "#This notebook contains code to generate ign dists for each NTS sheet based of the national fire database (NFDB). The overall approach here is to\n",
    "#create a circular buffer around an NTS sheet, calc the ratio of fire per year to fuel pixels for this buffered area, and then multiple the the number of\n",
    "#fuel pix per NTS sheet to get a spatially smoothed ign number that is based on real-world fire data.  \n",
    "import geopandas as gpd\n",
    "import pandas as pd\n",
    "import matplotlib.pyplot as plt\n",
    "import contextily as cx\n",
    "import numpy as np\n",
    "import matplotlib.cm as cm\n",
    "import rasterio as rio\n",
    "import rioxarray as rxr"
   ]
  },
  {
   "cell_type": "code",
   "execution_count": 2,
   "id": "7fbcce7c-1d77-493f-8d00-8d1ee8f31e44",
   "metadata": {},
   "outputs": [],
   "source": [
    "#Read in nts sheet shapefile\n",
    "df_nts=gpd.read_file(\"C:\\\\Users\\\\GiovanniCorti\\\\Downloads\\\\nts_snrc\\\\nts_snrc_250k.shp\")\n",
    "df_nts=df_nts.to_crs(epsg=6931) #Convert to equal-area projection"
   ]
  },
  {
   "cell_type": "code",
   "execution_count": null,
   "id": "629f7bdc-5b31-481e-9d83-7836e73cfdb4",
   "metadata": {},
   "outputs": [],
   "source": [
    "#Read in NFDB data and select fires larger than 1 ha between 2010-2020. This is done to 1) implicity \n",
    "#include the impact of fire suppression and 2) remove fires that too small to be simulated by BP3+\n",
    "df_pnts=gpd.read_file(\"C:\\\\Users\\\\GiovanniCorti\\\\Downloads\\\\NFDB_point\\\\NFDB_point_20220901.shp\")\n",
    "df_pnts=df_pnts[df_pnts['YEAR'].between(2010,2020)]\n",
    "df_pnts=df_pnts[df_pnts['SIZE_HA'].ge(1)]\n",
    "\n",
    "#Now count number of fires in each NTS sheet\n",
    "\n",
    "#Check which NTS sheet a fire is in\n",
    "df_pnts=df_pnts.to_crs(df_nts.crs)\n",
    "fire_loc_ls=[]\n",
    "for index, row in df_pnts.iterrows():\n",
    "    inside=df_nts.geometry.contains(row.geometry)\n",
    "    try:\n",
    "        fire_loc_ls.append(df_nts[inside]['NTS_SNRC'].values[0])\n",
    "    except:\n",
    "        pass\n",
    "\n",
    "#Aggregate and average to get mean annual fires per NTS sheet\n",
    "df_numfires=pd.Series(fire_loc_ls).value_counts().to_frame()\n",
    "df_numfires.index.name='NTS_SNRC'\n",
    "df_numfires_large=df_nts.merge(df_numfires, on='NTS_SNRC')\n",
    "df_numfires_large=df_numfires_large.rename(columns={'count':'lg_count'})\n",
    "df_numfires_large['lg_count']=df_numfires_large['lg_count']/11"
   ]
  },
  {
   "cell_type": "code",
   "execution_count": 6,
   "id": "ce9c9407-108e-4eb7-9cf0-e7300a649d4c",
   "metadata": {},
   "outputs": [],
   "source": [
    "#Calculate the number of fuel pixels per NTS sheet. \n",
    "dt=df_nts.to_crs(fbp.rio.crs)\n",
    "\n",
    "nts_list=[]\n",
    "fuel_list=[]\n",
    "for index, row in dt.iterrows():\n",
    "    polys = gpd.GeoSeries((row.geometry))\n",
    "    nts_list.append(row['NTS_SNRC'])\n",
    "    try:\n",
    "        clip_fbp=fbp.rio.clip(polys, from_disk=True)\n",
    "        fuel=np.where((clip_fbp.values > 100) & (clip_fbp.values <150), 0, 1)\n",
    "        fuel_list.append(np.sum(fuel))\n",
    "    except:\n",
    "        fuel_list.append(0)\n",
    "\n",
    "dict = {'NTS_SNRC': nts_list, 'f_pix': fuel_list} \n",
    "df_nts_fpix=pd.DataFrame(dict)\n"
   ]
  },
  {
   "cell_type": "code",
   "execution_count": 9,
   "id": "bc46d5ce-91b9-4b16-83fa-40564c861f49",
   "metadata": {},
   "outputs": [],
   "source": [
    "#Buffer NTS sheet centroids to create a 150km radius circle around each sheet. This area, \n",
    "# which overlaps with circles from adjacent NTS sheets will be used for spatial smoothing\n",
    "df_ignb=df_nts.copy()\n",
    "df_ignb=df_ignb.to_crs(epsg='6931')\n",
    "df_ignb['geometry']=df_ignb['geometry'].centroid.buffer(150000)\n"
   ]
  },
  {
   "cell_type": "code",
   "execution_count": 10,
   "id": "aa245764-d0e1-4c2b-9d9b-d3a27151f79a",
   "metadata": {},
   "outputs": [],
   "source": [
    "#Read in NFDB data and select fires larger than 1 ha between 2010-2020. This is done to 1) implicity \n",
    "#include the impact of fire suppression and 2) remove fires that too small to be simulated by BP3+\n",
    "df_pnts=gpd.read_file(\"C:\\\\Users\\\\GiovanniCorti\\\\Downloads\\\\NFDB_point\\\\NFDB_point_20220901.shp\")\n",
    "df_pnts=df_pnts[df_pnts['YEAR'].between(2010,2020)]\n",
    "df_pnts=df_pnts[df_pnts['SIZE_HA'].ge(1)]\n",
    "#df_pnts=df_pnts.to_crs(epsg='4326')\n",
    "df_pnts=df_pnts.to_crs(epsg='6931')\n",
    "df_ignb['count']=0\n",
    "\n",
    "#Check which fires fall within an NTS circle\n",
    "fire_loc_ls=[]\n",
    "for index, row in df_ignb.iterrows():\n",
    "    inside=df_pnts['geometry'].within(row.geometry)\n",
    "    num_igns=len(inside[inside==True])\n",
    "    try:\n",
    "        df_ignb.at[index,'count']=num_igns\n",
    "    except:\n",
    "        print('fail')\n",
    "        pass\n"
   ]
  },
  {
   "cell_type": "code",
   "execution_count": 11,
   "id": "52dc2abf-4858-426c-8107-f887fe238e3e",
   "metadata": {},
   "outputs": [],
   "source": [
    "#Calc number of fuel pixels in each NTS circle (i.e., buffered sheet) \n",
    "fbp = rxr.open_rasterio(\"C:\\\\Users\\\\GiovanniCorti\\\\Downloads\\\\Canadian_Forest_FBP_Fuel_Types_v20191114\\\\fuel_layer\\\\FBP_FuelLayer.tif\")\n",
    "dt=df_ignb.to_crs(fbp.rio.crs)\n",
    "\n",
    "nts_list=[]\n",
    "fuel_list=[]\n",
    "for index, row in dt.iterrows():\n",
    "    polys = gpd.GeoSeries((row.geometry))\n",
    "    nts_list.append(row['NTS_SNRC'])\n",
    "    try:\n",
    "        clip_fbp=fbp.rio.clip(polys, from_disk=True)\n",
    "        fuel=np.where((clip_fbp.values < 100) | (clip_fbp.values >150), 1, 0)\n",
    "        fuel_list.append(np.sum(fuel))\n",
    "    except:\n",
    "        fuel_list.append(0)\n",
    "\n",
    "dict = {'NTS_SNRC': nts_list, 'f_pix_buff': fuel_list} \n",
    "dt=pd.DataFrame(dict)\n",
    "\n",
    "#Calc fire to fuel pix ratio for NTS circle and multiply by num fuel pix per sheet. \n",
    "df_buff=df_ignb.merge(dt, on='NTS_SNRC')\n",
    "df_buff['ratio']=df_buff['count']/df_buff['f_pix_buff']\n",
    "df_buff=df_buff.merge(df_nts_fpix, on='NTS_SNRC',how='left')\n",
    "df_buff['ign_num']=(df_buff['f_pix']*df_buff['ratio'])/11\n",
    "df_ign_num=df_nts.merge(df_buff[['NTS_SNRC','ign_num']], on='NTS_SNRC', how='left')\n",
    "df_ign_num=df_ign_num.to_crs(epsg=3857)\n"
   ]
  },
  {
   "cell_type": "code",
   "execution_count": 31,
   "id": "98ecf005-4e53-4ad6-9183-4c08ea372dfa",
   "metadata": {},
   "outputs": [],
   "source": [
    "#Save to shape file\n",
    "#df_ign_num.to_file(\"C:/Users/GiovanniCorti/Documents/Wildfire/ign_v2.shp\")"
   ]
  },
  {
   "cell_type": "code",
   "execution_count": 81,
   "id": "155706a8-dbd8-40d3-894f-609e555557fb",
   "metadata": {},
   "outputs": [],
   "source": [
    "#Create ign dist .csvs for each NTS sheet\n",
    "for index, row in df_plot.iterrows():\n",
    "    num=np.round(row['ign_num'],2)\n",
    "    vals=np.round(np.modf(num),2)\n",
    "    ign_num_ls=[]\n",
    "    per_ls=[]\n",
    "    \n",
    "    if num==0:\n",
    "        #r1=[0,1.0]\n",
    "        ign_num_ls.append(0)\n",
    "        per_ls.append(100)\n",
    "    elif np.isnan(num):\n",
    "        pass\n",
    "    else:\n",
    "        ign_num_ls.extend((int(vals[1]),int(vals[1]+1)))\n",
    "        per_ls.extend((100*np.round(1-vals[0],2),100*np.round(vals[0],2)))\n",
    "    dict = {'ign_per_it': ign_num_ls, 'pct': per_ls} \n",
    "    dt=pd.DataFrame(dict)\n",
    "    #Write .csvs to Y drive\n",
    "    dt.to_csv(\"Y:client-data\\\\demo_projects\\\\climate85\\\\Working_data\\\\ign_dist\\\\ign_dist_\"+row['NTS_SNRC']+'.csv',index=False)"
   ]
  }
 ],
 "metadata": {
  "kernelspec": {
   "display_name": "Python 3 (ipykernel)",
   "language": "python",
   "name": "python3"
  },
  "language_info": {
   "codemirror_mode": {
    "name": "ipython",
    "version": 3
   },
   "file_extension": ".py",
   "mimetype": "text/x-python",
   "name": "python",
   "nbconvert_exporter": "python",
   "pygments_lexer": "ipython3",
   "version": "3.11.5"
  }
 },
 "nbformat": 4,
 "nbformat_minor": 5
}
